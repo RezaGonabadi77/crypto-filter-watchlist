{
 "cells": [
  {
   "cell_type": "markdown",
   "id": "aea942fa",
   "metadata": {},
   "source": [
    "## Import necessary packages"
   ]
  },
  {
   "cell_type": "code",
   "execution_count": 1,
   "id": "f5b81ac0",
   "metadata": {},
   "outputs": [],
   "source": [
    "import ccxt\n",
    "import pandas as pd"
   ]
  },
  {
   "cell_type": "markdown",
   "id": "b5de0d4f",
   "metadata": {},
   "source": [
    "## Initialize parameters and objects"
   ]
  },
  {
   "cell_type": "code",
   "execution_count": 2,
   "id": "084ba61f",
   "metadata": {},
   "outputs": [],
   "source": [
    "# Initialize the CCXT exchange object\n",
    "exchange = ccxt.binance()\n",
    "\n",
    "# Fetch all available trading pairs on Binance\n",
    "symbols = exchange.fetch_markets()\n",
    "symbol_names = [symbol['symbol'] for symbol in symbols]\n",
    "\n",
    "# Filter symbols based on USDT or USD\n",
    "filtered_symbols = [symbol for symbol in symbol_names if 'USDT' in symbol]\n",
    "\n",
    "# Define the timeframe for OHLCV (Open, High, Low, Close, Volume) data\n",
    "timeframe = '1d'"
   ]
  },
  {
   "cell_type": "markdown",
   "id": "98a736e2",
   "metadata": {},
   "source": [
    "## Fetch historical OHLCV data"
   ]
  },
  {
   "cell_type": "code",
   "execution_count": null,
   "id": "a93f4eaf",
   "metadata": {},
   "outputs": [],
   "source": [
    "def fetch_ohlcv(symbol, timeframe, limit=100):\n",
    "    # Fetch historical OHLCV data\n",
    "    ohlcv = exchange.fetch_ohlcv(symbol, timeframe, limit=limit + 20)  # Fetch additional 20 candles\n",
    "    \n",
    "    # Convert the data to a Pandas DataFrame\n",
    "    df = pd.DataFrame(ohlcv, columns=['timestamp', 'open', 'high', 'low', 'close', 'volume'])\n",
    "    \n",
    "    # Convert timestamp to datetime\n",
    "    df['timestamp'] = pd.to_datetime(df['timestamp'], unit='ms')\n",
    "    \n",
    "    return df.iloc[-limit:]  # Return only the last 'limit' candles"
   ]
  },
  {
   "cell_type": "markdown",
   "id": "9aa2f24b",
   "metadata": {},
   "source": [
    "## detecting big move in market"
   ]
  },
  {
   "cell_type": "code",
   "execution_count": 4,
   "id": "77e1d0e6",
   "metadata": {},
   "outputs": [],
   "source": [
    "def detect_big_move(df, volume_multiplier=3):\n",
    "    # Calculate the average volume of the previous 20 candles\n",
    "    df['avg_volume'] = df['volume'].rolling(window=20).mean()\n",
    "    \n",
    "    # Filter rows with volume 3 times greater than the average volume of the previous 20 candles\n",
    "    big_moves = df[df['volume'] > volume_multiplier * df['avg_volume']]\n",
    "    \n",
    "    return big_moves"
   ]
  },
  {
   "cell_type": "markdown",
   "id": "8a4975b3",
   "metadata": {},
   "source": [
    "## Main script"
   ]
  },
  {
   "cell_type": "code",
   "execution_count": null,
   "id": "7d7bd14b",
   "metadata": {},
   "outputs": [],
   "source": [
    "for symbol in symbol_names:\n",
    "    try:\n",
    "        # Fetch historical data\n",
    "        df = fetch_ohlcv(symbol, timeframe, limit=20)\n",
    "        \n",
    "        # Detect big moves\n",
    "        big_moves = detect_big_move(df, volume_multiplier=3)\n",
    "        \n",
    "        # Print the results\n",
    "        if not big_moves.empty:\n",
    "            print(f\"Symbol: {symbol}\")\n",
    "            print(big_moves[['timestamp', 'close', 'volume', 'avg_volume']])\n",
    "            print(\"\\n\" + \"=\" * 40 + \"\\n\")\n",
    "    except ccxt.NetworkError as e:\n",
    "        print(f\"Network error for {symbol}: {e}\")\n",
    "    except ccxt.ExchangeError as e:\n",
    "        print(f\"Exchange error for {symbol}: {e}\")\n",
    "    except Exception as e:\n",
    "        print(f\"An unexpected error occurred for {symbol}: {e}\")\n"
   ]
  },
  {
   "cell_type": "code",
   "execution_count": null,
   "id": "5188dfd2",
   "metadata": {},
   "outputs": [],
   "source": []
  }
 ],
 "metadata": {
  "kernelspec": {
   "display_name": "Python 3 (ipykernel)",
   "language": "python",
   "name": "python3"
  },
  "language_info": {
   "codemirror_mode": {
    "name": "ipython",
    "version": 3
   },
   "file_extension": ".py",
   "mimetype": "text/x-python",
   "name": "python",
   "nbconvert_exporter": "python",
   "pygments_lexer": "ipython3",
   "version": "3.11.0"
  }
 },
 "nbformat": 4,
 "nbformat_minor": 5
}
